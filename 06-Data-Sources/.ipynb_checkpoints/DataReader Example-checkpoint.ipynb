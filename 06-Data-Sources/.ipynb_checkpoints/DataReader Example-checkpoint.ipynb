{
 "cells": [
  {
   "cell_type": "code",
   "execution_count": 2,
   "metadata": {},
   "outputs": [],
   "source": [
    "import pandas_datareader.data as web"
   ]
  },
  {
   "cell_type": "code",
   "execution_count": 3,
   "metadata": {},
   "outputs": [],
   "source": [
    "import datetime as dt"
   ]
  },
  {
   "cell_type": "code",
   "execution_count": 4,
   "metadata": {},
   "outputs": [],
   "source": [
    "start = dt.datetime(2015,1,1)\n",
    "end = dt.datetime(2017,1,1)"
   ]
  },
  {
   "cell_type": "code",
   "execution_count": 5,
   "metadata": {},
   "outputs": [],
   "source": [
    "facebook = web.DataReader('FB', 'iex', start, end)"
   ]
  },
  {
   "cell_type": "code",
   "execution_count": 6,
   "metadata": {},
   "outputs": [
    {
     "data": {
      "text/html": [
       "<div>\n",
       "<style scoped>\n",
       "    .dataframe tbody tr th:only-of-type {\n",
       "        vertical-align: middle;\n",
       "    }\n",
       "\n",
       "    .dataframe tbody tr th {\n",
       "        vertical-align: top;\n",
       "    }\n",
       "\n",
       "    .dataframe thead th {\n",
       "        text-align: right;\n",
       "    }\n",
       "</style>\n",
       "<table border=\"1\" class=\"dataframe\">\n",
       "  <thead>\n",
       "    <tr style=\"text-align: right;\">\n",
       "      <th></th>\n",
       "      <th>open</th>\n",
       "      <th>high</th>\n",
       "      <th>low</th>\n",
       "      <th>close</th>\n",
       "      <th>volume</th>\n",
       "    </tr>\n",
       "    <tr>\n",
       "      <th>date</th>\n",
       "      <th></th>\n",
       "      <th></th>\n",
       "      <th></th>\n",
       "      <th></th>\n",
       "      <th></th>\n",
       "    </tr>\n",
       "  </thead>\n",
       "  <tbody>\n",
       "    <tr>\n",
       "      <th>2015-01-02</th>\n",
       "      <td>78.58</td>\n",
       "      <td>78.9300</td>\n",
       "      <td>77.700</td>\n",
       "      <td>78.450</td>\n",
       "      <td>18177475</td>\n",
       "    </tr>\n",
       "    <tr>\n",
       "      <th>2015-01-05</th>\n",
       "      <td>77.98</td>\n",
       "      <td>79.2455</td>\n",
       "      <td>76.860</td>\n",
       "      <td>77.190</td>\n",
       "      <td>26452191</td>\n",
       "    </tr>\n",
       "    <tr>\n",
       "      <th>2015-01-06</th>\n",
       "      <td>77.23</td>\n",
       "      <td>77.5900</td>\n",
       "      <td>75.365</td>\n",
       "      <td>76.150</td>\n",
       "      <td>27399288</td>\n",
       "    </tr>\n",
       "    <tr>\n",
       "      <th>2015-01-07</th>\n",
       "      <td>76.76</td>\n",
       "      <td>77.3600</td>\n",
       "      <td>75.820</td>\n",
       "      <td>76.150</td>\n",
       "      <td>22045333</td>\n",
       "    </tr>\n",
       "    <tr>\n",
       "      <th>2015-01-08</th>\n",
       "      <td>76.74</td>\n",
       "      <td>78.2300</td>\n",
       "      <td>76.080</td>\n",
       "      <td>78.175</td>\n",
       "      <td>23960953</td>\n",
       "    </tr>\n",
       "  </tbody>\n",
       "</table>\n",
       "</div>"
      ],
      "text/plain": [
       "             open     high     low   close    volume\n",
       "date                                                \n",
       "2015-01-02  78.58  78.9300  77.700  78.450  18177475\n",
       "2015-01-05  77.98  79.2455  76.860  77.190  26452191\n",
       "2015-01-06  77.23  77.5900  75.365  76.150  27399288\n",
       "2015-01-07  76.76  77.3600  75.820  76.150  22045333\n",
       "2015-01-08  76.74  78.2300  76.080  78.175  23960953"
      ]
     },
     "execution_count": 6,
     "metadata": {},
     "output_type": "execute_result"
    }
   ],
   "source": [
    "facebook.head()"
   ]
  },
  {
   "cell_type": "code",
   "execution_count": 8,
   "metadata": {},
   "outputs": [],
   "source": [
    "import fix_yahoo_finance as fyf\n",
    "fyf.pdr_override()"
   ]
  },
  {
   "cell_type": "code",
   "execution_count": 9,
   "metadata": {},
   "outputs": [
    {
     "name": "stdout",
     "output_type": "stream",
     "text": [
      "[*********************100%***********************]  1 of 1 downloaded\n"
     ]
    }
   ],
   "source": [
    "df = web.get_data_yahoo(['0700.HK'], start, end)"
   ]
  },
  {
   "cell_type": "code",
   "execution_count": 10,
   "metadata": {},
   "outputs": [
    {
     "data": {
      "text/html": [
       "<div>\n",
       "<style scoped>\n",
       "    .dataframe tbody tr th:only-of-type {\n",
       "        vertical-align: middle;\n",
       "    }\n",
       "\n",
       "    .dataframe tbody tr th {\n",
       "        vertical-align: top;\n",
       "    }\n",
       "\n",
       "    .dataframe thead th {\n",
       "        text-align: right;\n",
       "    }\n",
       "</style>\n",
       "<table border=\"1\" class=\"dataframe\">\n",
       "  <thead>\n",
       "    <tr style=\"text-align: right;\">\n",
       "      <th></th>\n",
       "      <th>Open</th>\n",
       "      <th>High</th>\n",
       "      <th>Low</th>\n",
       "      <th>Close</th>\n",
       "      <th>Adj Close</th>\n",
       "      <th>Volume</th>\n",
       "    </tr>\n",
       "    <tr>\n",
       "      <th>Date</th>\n",
       "      <th></th>\n",
       "      <th></th>\n",
       "      <th></th>\n",
       "      <th></th>\n",
       "      <th></th>\n",
       "      <th></th>\n",
       "    </tr>\n",
       "  </thead>\n",
       "  <tbody>\n",
       "    <tr>\n",
       "      <th>2015-01-02</th>\n",
       "      <td>113.599998</td>\n",
       "      <td>113.599998</td>\n",
       "      <td>111.300003</td>\n",
       "      <td>112.800003</td>\n",
       "      <td>111.712776</td>\n",
       "      <td>10862542</td>\n",
       "    </tr>\n",
       "    <tr>\n",
       "      <th>2015-01-05</th>\n",
       "      <td>113.500000</td>\n",
       "      <td>115.300003</td>\n",
       "      <td>112.800003</td>\n",
       "      <td>113.500000</td>\n",
       "      <td>112.406013</td>\n",
       "      <td>21808993</td>\n",
       "    </tr>\n",
       "    <tr>\n",
       "      <th>2015-01-06</th>\n",
       "      <td>114.000000</td>\n",
       "      <td>120.500000</td>\n",
       "      <td>113.599998</td>\n",
       "      <td>120.000000</td>\n",
       "      <td>118.843369</td>\n",
       "      <td>43678255</td>\n",
       "    </tr>\n",
       "    <tr>\n",
       "      <th>2015-01-07</th>\n",
       "      <td>123.500000</td>\n",
       "      <td>124.500000</td>\n",
       "      <td>122.599998</td>\n",
       "      <td>124.400002</td>\n",
       "      <td>123.200966</td>\n",
       "      <td>40863410</td>\n",
       "    </tr>\n",
       "    <tr>\n",
       "      <th>2015-01-08</th>\n",
       "      <td>127.500000</td>\n",
       "      <td>127.800003</td>\n",
       "      <td>125.599998</td>\n",
       "      <td>127.300003</td>\n",
       "      <td>126.073006</td>\n",
       "      <td>35638986</td>\n",
       "    </tr>\n",
       "  </tbody>\n",
       "</table>\n",
       "</div>"
      ],
      "text/plain": [
       "                  Open        High         Low       Close   Adj Close  \\\n",
       "Date                                                                     \n",
       "2015-01-02  113.599998  113.599998  111.300003  112.800003  111.712776   \n",
       "2015-01-05  113.500000  115.300003  112.800003  113.500000  112.406013   \n",
       "2015-01-06  114.000000  120.500000  113.599998  120.000000  118.843369   \n",
       "2015-01-07  123.500000  124.500000  122.599998  124.400002  123.200966   \n",
       "2015-01-08  127.500000  127.800003  125.599998  127.300003  126.073006   \n",
       "\n",
       "              Volume  \n",
       "Date                  \n",
       "2015-01-02  10862542  \n",
       "2015-01-05  21808993  \n",
       "2015-01-06  43678255  \n",
       "2015-01-07  40863410  \n",
       "2015-01-08  35638986  "
      ]
     },
     "execution_count": 10,
     "metadata": {},
     "output_type": "execute_result"
    }
   ],
   "source": [
    "df.head()"
   ]
  },
  {
   "cell_type": "code",
   "execution_count": null,
   "metadata": {},
   "outputs": [],
   "source": []
  }
 ],
 "metadata": {
  "kernelspec": {
   "display_name": "Python 3",
   "language": "python",
   "name": "python3"
  },
  "language_info": {
   "codemirror_mode": {
    "name": "ipython",
    "version": 3
   },
   "file_extension": ".py",
   "mimetype": "text/x-python",
   "name": "python",
   "nbconvert_exporter": "python",
   "pygments_lexer": "ipython3",
   "version": "3.7.1"
  }
 },
 "nbformat": 4,
 "nbformat_minor": 2
}
